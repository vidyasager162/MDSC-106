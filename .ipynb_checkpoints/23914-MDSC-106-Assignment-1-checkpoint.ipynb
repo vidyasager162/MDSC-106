{
 "cells": [
  {
   "cell_type": "markdown",
   "id": "5b163c9e",
   "metadata": {},
   "source": [
    "# MDSC-106\n",
    "## Assignment - 1\n",
    "### August Learning Summary"
   ]
  },
  {
   "cell_type": "markdown",
   "id": "4d40b053",
   "metadata": {},
   "source": [
    "We started with basics of python and got some insights of the difference between Python 2.0 and Python 3.0\n",
    "\n",
    "The few notable changes observed where:\n",
    "* Print statement is a function in Python 3 while it was a statement in Python 2.\n",
    "* Strings format changed from ASCII to UNICODE from Python 2 and Python 3.\n",
    "* In Python 2, the divison of two integers by default gives a floor integer value but Python 3 gives a float.\n",
    "* Range vs XRange functions in Python 3 and 2."
   ]
  },
  {
   "cell_type": "markdown",
   "id": "274d394f",
   "metadata": {},
   "source": [
    "Then we went on towards the usage of libraries in Python that had something to do with our Data Visualization course.\n",
    "Namely, Pandas.\n",
    "\n",
    "Pandas is a python library used for data analysis. The main advantage of using pandas is that is provides data structures and tools to manipulate and analyze large and complex datasets. The two data structures we have heard about in Pandas are Data Frames and Series.\n",
    "\n",
    "We went over and implemented Data Frames in our classes.\n",
    "\n",
    "Data Frame is a labeled data structure that is similar to tables in SQL and the Excel Spreadsheet with Rows and Columns."
   ]
  },
  {
   "cell_type": "code",
   "execution_count": null,
   "id": "44bed9f1",
   "metadata": {},
   "outputs": [],
   "source": []
  },
  {
   "cell_type": "code",
   "execution_count": null,
   "id": "54ebf724",
   "metadata": {},
   "outputs": [],
   "source": []
  }
 ],
 "metadata": {
  "kernelspec": {
   "display_name": "Python 3 (ipykernel)",
   "language": "python",
   "name": "python3"
  },
  "language_info": {
   "codemirror_mode": {
    "name": "ipython",
    "version": 3
   },
   "file_extension": ".py",
   "mimetype": "text/x-python",
   "name": "python",
   "nbconvert_exporter": "python",
   "pygments_lexer": "ipython3",
   "version": "3.10.9"
  }
 },
 "nbformat": 4,
 "nbformat_minor": 5
}
